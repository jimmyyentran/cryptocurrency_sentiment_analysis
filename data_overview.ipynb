{
 "cells": [
  {
   "cell_type": "code",
   "execution_count": 44,
   "metadata": {
    "collapsed": true
   },
   "outputs": [],
   "source": [
    "import pandas as pd\n",
    "import numpy as np\n",
    "import os\n",
    "import matplotlib.pyplot as plt\n",
    "from IPython.display import display"
   ]
  },
  {
   "cell_type": "code",
   "execution_count": 32,
   "metadata": {
    "collapsed": true
   },
   "outputs": [
    {
     "name": "stdout",
     "output_type": "stream",
     "text": [
      "1coinUSD 32882417\n",
      "anxhkUSD 27563611\n",
      "b2cUSD 15237\n",
      "b7USD 230007\n",
      "bcLRUSD 18323\n",
      "bcmBMUSD 9654\n",
      "bcmLRUSD 16126\n",
      "bcmMBUSD 5739\n",
      "bcmPPUSD 121918\n",
      "bitaloUSD 303\n",
      "bitbayUSD 3987217\n",
      "bitboxUSD 48163\n",
      "bitcurexUSD 141083\n",
      "bitfinexUSD 438362425\n",
      "bitfloorUSD 8457104\n",
      "bitkonanUSD 4700850\n",
      "bitmarketUSD 120362\n",
      "bitmeUSD 157706\n",
      "bitstampUSD 499566168\n",
      "btc24USD 239650\n",
      "btcalphaUSD 17064703\n",
      "btccUSD 2630096\n",
      "btceUSD 1338139558\n",
      "btcexUSD 428784\n",
      "btctreeUSD 23857\n",
      "cbxUSD 12383393\n",
      "coinbaseUSD 695192864\n",
      "cotrUSD 1111318\n",
      "cryptoxUSD 828051\n",
      "crytrUSD 832147\n",
      "exchbUSD 1318718\n",
      "exmoUSD 1421625\n",
      "fbtcUSD 44315\n",
      "globalUSD 5616\n",
      "hitbtcUSD 45089896\n",
      "ibwtUSD 1288\n",
      "icbitUSD 345948\n",
      "imcexUSD 32277\n",
      "intrsngUSD 963950\n",
      "itbitUSD 50996691\n",
      "krakenUSD 64363054\n",
      "lakeUSD 154001224\n",
      "localbtcUSD 102902567\n",
      "lybitUSD 3524\n",
      "mtgoxUSD 351278809\n",
      "rippleUSD 2222390\n",
      "rockUSD 4552229\n",
      "ruxumUSD 85224\n",
      "thLRUSD 97421\n",
      "thUSD 6607420\n",
      "vcxUSD 3213753\n",
      "weexUSD 6877\n"
     ]
    }
   ],
   "source": [
    "df = None\n",
    "is_df = False\n",
    "for file in [x for x in os.listdir() if x.endswith('.csv')]:\n",
    "    exchange_name = file.split('.')[0]\n",
    "    print(exchange_name, os.path.getsize(file))\n",
    "#     data = data.append(pd.read_csv(file, header=None), ignore_index=True)\n",
    "    data = pd.read_csv(file, index_col=0, names=['price', 'amount'], header=None)\n",
    "    data['exchange'] = exchange_name\n",
    "    if is_df:\n",
    "        df = df.append(data)\n",
    "    else:\n",
    "        df = data\n",
    "        is_df = True"
   ]
  },
  {
   "cell_type": "code",
   "execution_count": 37,
   "metadata": {},
   "outputs": [
    {
     "data": {
      "text/html": [
       "<div>\n",
       "<style>\n",
       "    .dataframe thead tr:only-child th {\n",
       "        text-align: right;\n",
       "    }\n",
       "\n",
       "    .dataframe thead th {\n",
       "        text-align: left;\n",
       "    }\n",
       "\n",
       "    .dataframe tbody tr th {\n",
       "        vertical-align: top;\n",
       "    }\n",
       "</style>\n",
       "<table border=\"1\" class=\"dataframe\">\n",
       "  <thead>\n",
       "    <tr style=\"text-align: right;\">\n",
       "      <th></th>\n",
       "      <th>price</th>\n",
       "      <th>amount</th>\n",
       "      <th>exchange</th>\n",
       "    </tr>\n",
       "  </thead>\n",
       "  <tbody>\n",
       "    <tr>\n",
       "      <th>946684800</th>\n",
       "      <td>55.000</td>\n",
       "      <td>0.001154</td>\n",
       "      <td>rippleUSD</td>\n",
       "    </tr>\n",
       "    <tr>\n",
       "      <th>1272213424</th>\n",
       "      <td>0.003</td>\n",
       "      <td>1000.000000</td>\n",
       "      <td>bcmPPUSD</td>\n",
       "    </tr>\n",
       "    <tr>\n",
       "      <th>1272321545</th>\n",
       "      <td>0.003</td>\n",
       "      <td>1300.000000</td>\n",
       "      <td>bcmPPUSD</td>\n",
       "    </tr>\n",
       "    <tr>\n",
       "      <th>1272636016</th>\n",
       "      <td>0.003</td>\n",
       "      <td>173.000000</td>\n",
       "      <td>bcmPPUSD</td>\n",
       "    </tr>\n",
       "    <tr>\n",
       "      <th>1272722427</th>\n",
       "      <td>0.003</td>\n",
       "      <td>174.000000</td>\n",
       "      <td>bcmPPUSD</td>\n",
       "    </tr>\n",
       "  </tbody>\n",
       "</table>\n",
       "</div>"
      ],
      "text/plain": [
       "             price       amount   exchange\n",
       "946684800   55.000     0.001154  rippleUSD\n",
       "1272213424   0.003  1000.000000   bcmPPUSD\n",
       "1272321545   0.003  1300.000000   bcmPPUSD\n",
       "1272636016   0.003   173.000000   bcmPPUSD\n",
       "1272722427   0.003   174.000000   bcmPPUSD"
      ]
     },
     "execution_count": 37,
     "metadata": {},
     "output_type": "execute_result"
    }
   ],
   "source": [
    "df.sort_index(inplace=True)\n",
    "df.head()"
   ]
  },
  {
   "cell_type": "code",
   "execution_count": 78,
   "metadata": {},
   "outputs": [
    {
     "name": "stdout",
     "output_type": "stream",
     "text": [
      "rows: 90062456\n"
     ]
    }
   ],
   "source": [
    "print('rows:', df.shape[0])"
   ]
  },
  {
   "cell_type": "code",
   "execution_count": 49,
   "metadata": {},
   "outputs": [],
   "source": [
    "# Drop bad row\n",
    "df.drop(df.index[0], inplace=True)"
   ]
  },
  {
   "cell_type": "code",
   "execution_count": 51,
   "metadata": {},
   "outputs": [
    {
     "data": {
      "image/png": "[encoded data removed]",
      "text/plain": [
       "<matplotlib.figure.Figure at 0x2192ef400>"
      ]
     },
     "metadata": {},
     "output_type": "display_data"
    },
    {
     "data": {
      "image/png": "[encoded data removed]",
      "text/plain": [
       "<matplotlib.figure.Figure at 0x21989b5c0>"
      ]
     },
     "metadata": {},
     "output_type": "display_data"
    }
   ],
   "source": [
    "plt.plot('amount', data=df)\n",
    "plt.show()\n",
    "plt.plot('price', data=df)\n",
    "plt.show()"
   ]
  },
  {
   "cell_type": "markdown",
   "metadata": {},
   "source": [
    "**Amount**\n",
    "* Volume spike in 1.325e9 (Late 2011)\n",
    "* Volume spike in 1.425e9 (Late 2014/Late 2015)\n",
    "\n",
    "**Price**\n",
    "* Obvious outlier in Late 2011"
   ]
  },
  {
   "cell_type": "code",
   "execution_count": 57,
   "metadata": {},
   "outputs": [],
   "source": [
    "# Drop outlier\n",
    "df.drop(df['price'].idxmax(), inplace=True)"
   ]
  },
  {
   "cell_type": "code",
   "execution_count": 59,
   "metadata": {},
   "outputs": [
    {
     "data": {
      "image/png": "[encoded data removed]",
      "text/plain": [
       "<matplotlib.figure.Figure at 0x21a776e80>"
      ]
     },
     "metadata": {},
     "output_type": "display_data"
    }
   ],
   "source": [
    "plt.plot('price', data=df)\n",
    "plt.show()"
   ]
  },
  {
   "cell_type": "code",
   "execution_count": 72,
   "metadata": {},
   "outputs": [
    {
     "data": {
      "text/plain": [
       "localbtcUSD    8036\n",
       "bitkonanUSD       2\n",
       "bitbayUSD         1\n",
       "anxhkUSD          1\n",
       "cotrUSD           1\n",
       "rippleUSD         1\n",
       "Name: exchange, dtype: int64"
      ]
     },
     "execution_count": 72,
     "metadata": {},
     "output_type": "execute_result"
    }
   ],
   "source": [
    "price_gt_4k = df[df['price'] > 4000]\n",
    "price_gt_4k['exchange'].value_counts()"
   ]
  },
  {
   "cell_type": "code",
   "execution_count": 89,
   "metadata": {},
   "outputs": [
    {
     "data": {
      "text/plain": [
       "2378395"
      ]
     },
     "execution_count": 89,
     "metadata": {},
     "output_type": "execute_result"
    }
   ],
   "source": [
    "localbtc_mask = [df['exchange'] == 'localbtcUSD']\n",
    "np.sum(localbtc_mask)"
   ]
  },
  {
   "cell_type": "markdown",
   "metadata": {},
   "source": [
    "The highest BTC price is sub $3k as of July 2017\n",
    "* LocalBitcoins is a company in Finland that allows users to trade bitcoins in person.\n",
    "* Their data is responsible for almost all of BTC txn over 4k.\n",
    " * This data is unreliable -> Drop\n",
    "* We are also going to drop all prices \\>\\$4k\n"
   ]
  },
  {
   "cell_type": "code",
   "execution_count": null,
   "metadata": {
    "collapsed": true
   },
   "outputs": [],
   "source": [
    "df.drop(df[df.exchange == 'localbtcUSD'].index, inplace=True)\n",
    "df.drop(df[df['price'] > 4000].index, inplace=True)\n",
    "print(df.shape)"
   ]
  },
  {
   "cell_type": "code",
   "execution_count": 134,
   "metadata": {},
   "outputs": [
    {
     "data": {
      "image/png": "[encoded data removed]",
      "text/plain": [
       "<matplotlib.figure.Figure at 0x21a67ed68>"
      ]
     },
     "metadata": {},
     "output_type": "display_data"
    }
   ],
   "source": [
    "plt.plot('price', data=df)\n",
    "plt.show()\n",
    "print(df.shape)"
   ]
  },
  {
   "cell_type": "code",
   "execution_count": 135,
   "metadata": {},
   "outputs": [
    {
     "data": {
      "text/plain": [
       "array([False, False, False, ...,  True,  True,  True], dtype=bool)"
      ]
     },
     "execution_count": 135,
     "metadata": {},
     "output_type": "execute_result"
    }
   ],
   "source": [
    "df.index.duplicated()"
   ]
  },
  {
   "cell_type": "code",
   "execution_count": null,
   "metadata": {
    "collapsed": true
   },
   "outputs": [],
   "source": []
  },
  {
   "cell_type": "code",
   "execution_count": 109,
   "metadata": {},
   "outputs": [],
   "source": [
    "localbtc_idx_lst = df[localbtc_mask[0]].index.tolist()"
   ]
  },
  {
   "cell_type": "code",
   "execution_count": 124,
   "metadata": {},
   "outputs": [
    {
     "data": {
      "text/plain": [
       "Int64Index([1363046255, 1363116992, 1363177672, 1363194361, 1363197680,\n",
       "            1363219234, 1363256410, 1363292918, 1363303499, 1363306939,\n",
       "            ...\n",
       "            1497000839, 1497000870, 1497000876, 1497000994, 1497001071,\n",
       "            1497001076, 1497001187, 1497001338, 1497001354, 1497001456],\n",
       "           dtype='int64', length=2378395)"
      ]
     },
     "execution_count": 124,
     "metadata": {},
     "output_type": "execute_result"
    }
   ],
   "source": [
    "df[df.exchange == 'localbtcUSD'].index"
   ]
  },
  {
   "cell_type": "code",
   "execution_count": 123,
   "metadata": {},
   "outputs": [
    {
     "data": {
      "text/plain": [
       "88532115"
      ]
     },
     "execution_count": 123,
     "metadata": {},
     "output_type": "execute_result"
    }
   ],
   "source": [
    "t.shape[0] + 2378395"
   ]
  },
  {
   "cell_type": "code",
   "execution_count": null,
   "metadata": {
    "collapsed": true
   },
   "outputs": [],
   "source": [
    "# t = df.drop[localbtc_mask.index[localbtc_mask]]\n",
    "# t = df['exchange'] == 'localbtcUSD'\n",
    "# len(localbtc_idx_lst)\n",
    "# localbtc_mask.index[localbtc_mask]"
   ]
  },
  {
   "cell_type": "code",
   "execution_count": 126,
   "metadata": {},
   "outputs": [
    {
     "data": {
      "text/plain": [
       "87684061"
      ]
     },
     "execution_count": 126,
     "metadata": {},
     "output_type": "execute_result"
    }
   ],
   "source": [
    "df.shape[0] - 2378395"
   ]
  },
  {
   "cell_type": "code",
   "execution_count": 116,
   "metadata": {},
   "outputs": [
    {
     "data": {
      "text/html": [
       "<div>\n",
       "<style>\n",
       "    .dataframe thead tr:only-child th {\n",
       "        text-align: right;\n",
       "    }\n",
       "\n",
       "    .dataframe thead th {\n",
       "        text-align: left;\n",
       "    }\n",
       "\n",
       "    .dataframe tbody tr th {\n",
       "        vertical-align: top;\n",
       "    }\n",
       "</style>\n",
       "<table border=\"1\" class=\"dataframe\">\n",
       "  <thead>\n",
       "    <tr style=\"text-align: right;\">\n",
       "      <th></th>\n",
       "      <th>price</th>\n",
       "      <th>amount</th>\n",
       "      <th>exchange</th>\n",
       "    </tr>\n",
       "  </thead>\n",
       "  <tbody>\n",
       "    <tr>\n",
       "      <th>1363046255</th>\n",
       "      <td>72.000</td>\n",
       "      <td>4.999900</td>\n",
       "      <td>localbtcUSD</td>\n",
       "    </tr>\n",
       "    <tr>\n",
       "      <th>1363116992</th>\n",
       "      <td>67.790</td>\n",
       "      <td>1.999900</td>\n",
       "      <td>localbtcUSD</td>\n",
       "    </tr>\n",
       "    <tr>\n",
       "      <th>1363177672</th>\n",
       "      <td>52.210</td>\n",
       "      <td>14.768400</td>\n",
       "      <td>localbtcUSD</td>\n",
       "    </tr>\n",
       "    <tr>\n",
       "      <th>1363194361</th>\n",
       "      <td>56.290</td>\n",
       "      <td>0.640100</td>\n",
       "      <td>localbtcUSD</td>\n",
       "    </tr>\n",
       "    <tr>\n",
       "      <th>1363197680</th>\n",
       "      <td>40.000</td>\n",
       "      <td>1.750000</td>\n",
       "      <td>localbtcUSD</td>\n",
       "    </tr>\n",
       "    <tr>\n",
       "      <th>1363219234</th>\n",
       "      <td>70.300</td>\n",
       "      <td>1.422400</td>\n",
       "      <td>localbtcUSD</td>\n",
       "    </tr>\n",
       "    <tr>\n",
       "      <th>1363256410</th>\n",
       "      <td>47.470</td>\n",
       "      <td>11.102170</td>\n",
       "      <td>bitstampUSD</td>\n",
       "    </tr>\n",
       "    <tr>\n",
       "      <th>1363256410</th>\n",
       "      <td>51.320</td>\n",
       "      <td>0.876900</td>\n",
       "      <td>localbtcUSD</td>\n",
       "    </tr>\n",
       "    <tr>\n",
       "      <th>1363292918</th>\n",
       "      <td>43.799</td>\n",
       "      <td>0.100200</td>\n",
       "      <td>btceUSD</td>\n",
       "    </tr>\n",
       "    <tr>\n",
       "      <th>1363292918</th>\n",
       "      <td>50.400</td>\n",
       "      <td>2.976400</td>\n",
       "      <td>localbtcUSD</td>\n",
       "    </tr>\n",
       "    <tr>\n",
       "      <th>1363303499</th>\n",
       "      <td>50.350</td>\n",
       "      <td>1.588900</td>\n",
       "      <td>localbtcUSD</td>\n",
       "    </tr>\n",
       "    <tr>\n",
       "      <th>1363306939</th>\n",
       "      <td>49.520</td>\n",
       "      <td>7.371100</td>\n",
       "      <td>localbtcUSD</td>\n",
       "    </tr>\n",
       "    <tr>\n",
       "      <th>1363310095</th>\n",
       "      <td>49.350</td>\n",
       "      <td>6.484300</td>\n",
       "      <td>localbtcUSD</td>\n",
       "    </tr>\n",
       "    <tr>\n",
       "      <th>1363311085</th>\n",
       "      <td>49.350</td>\n",
       "      <td>4.052700</td>\n",
       "      <td>localbtcUSD</td>\n",
       "    </tr>\n",
       "    <tr>\n",
       "      <th>1363312695</th>\n",
       "      <td>70.960</td>\n",
       "      <td>0.352300</td>\n",
       "      <td>localbtcUSD</td>\n",
       "    </tr>\n",
       "    <tr>\n",
       "      <th>1363313332</th>\n",
       "      <td>49.580</td>\n",
       "      <td>2.000200</td>\n",
       "      <td>localbtcUSD</td>\n",
       "    </tr>\n",
       "    <tr>\n",
       "      <th>1363318506</th>\n",
       "      <td>49.660</td>\n",
       "      <td>2.013500</td>\n",
       "      <td>localbtcUSD</td>\n",
       "    </tr>\n",
       "    <tr>\n",
       "      <th>1363327730</th>\n",
       "      <td>47.750</td>\n",
       "      <td>10.472000</td>\n",
       "      <td>localbtcUSD</td>\n",
       "    </tr>\n",
       "    <tr>\n",
       "      <th>1363330278</th>\n",
       "      <td>49.540</td>\n",
       "      <td>5.248300</td>\n",
       "      <td>localbtcUSD</td>\n",
       "    </tr>\n",
       "    <tr>\n",
       "      <th>1363345089</th>\n",
       "      <td>70.520</td>\n",
       "      <td>2.127200</td>\n",
       "      <td>localbtcUSD</td>\n",
       "    </tr>\n",
       "    <tr>\n",
       "      <th>1363362161</th>\n",
       "      <td>53.290</td>\n",
       "      <td>1.914000</td>\n",
       "      <td>localbtcUSD</td>\n",
       "    </tr>\n",
       "    <tr>\n",
       "      <th>1363365558</th>\n",
       "      <td>49.720</td>\n",
       "      <td>1.206800</td>\n",
       "      <td>localbtcUSD</td>\n",
       "    </tr>\n",
       "    <tr>\n",
       "      <th>1363371577</th>\n",
       "      <td>48.350</td>\n",
       "      <td>0.827300</td>\n",
       "      <td>localbtcUSD</td>\n",
       "    </tr>\n",
       "    <tr>\n",
       "      <th>1363376245</th>\n",
       "      <td>48.200</td>\n",
       "      <td>6.017200</td>\n",
       "      <td>localbtcUSD</td>\n",
       "    </tr>\n",
       "    <tr>\n",
       "      <th>1363376304</th>\n",
       "      <td>48.240</td>\n",
       "      <td>2.073100</td>\n",
       "      <td>localbtcUSD</td>\n",
       "    </tr>\n",
       "    <tr>\n",
       "      <th>1363381307</th>\n",
       "      <td>48.410</td>\n",
       "      <td>10.328400</td>\n",
       "      <td>localbtcUSD</td>\n",
       "    </tr>\n",
       "    <tr>\n",
       "      <th>1363394943</th>\n",
       "      <td>49.350</td>\n",
       "      <td>1.000000</td>\n",
       "      <td>localbtcUSD</td>\n",
       "    </tr>\n",
       "    <tr>\n",
       "      <th>1363399174</th>\n",
       "      <td>48.320</td>\n",
       "      <td>2.069700</td>\n",
       "      <td>localbtcUSD</td>\n",
       "    </tr>\n",
       "    <tr>\n",
       "      <th>1363407761</th>\n",
       "      <td>48.090</td>\n",
       "      <td>3.000200</td>\n",
       "      <td>localbtcUSD</td>\n",
       "    </tr>\n",
       "    <tr>\n",
       "      <th>1363410188</th>\n",
       "      <td>48.870</td>\n",
       "      <td>0.613900</td>\n",
       "      <td>localbtcUSD</td>\n",
       "    </tr>\n",
       "    <tr>\n",
       "      <th>...</th>\n",
       "      <td>...</td>\n",
       "      <td>...</td>\n",
       "      <td>...</td>\n",
       "    </tr>\n",
       "    <tr>\n",
       "      <th>1497000246</th>\n",
       "      <td>2824.640</td>\n",
       "      <td>0.026552</td>\n",
       "      <td>localbtcUSD</td>\n",
       "    </tr>\n",
       "    <tr>\n",
       "      <th>1497000251</th>\n",
       "      <td>5638.000</td>\n",
       "      <td>0.002661</td>\n",
       "      <td>localbtcUSD</td>\n",
       "    </tr>\n",
       "    <tr>\n",
       "      <th>1497000301</th>\n",
       "      <td>4070.000</td>\n",
       "      <td>0.024570</td>\n",
       "      <td>localbtcUSD</td>\n",
       "    </tr>\n",
       "    <tr>\n",
       "      <th>1497000381</th>\n",
       "      <td>4063.030</td>\n",
       "      <td>0.006153</td>\n",
       "      <td>localbtcUSD</td>\n",
       "    </tr>\n",
       "    <tr>\n",
       "      <th>1497000390</th>\n",
       "      <td>4076.000</td>\n",
       "      <td>0.003680</td>\n",
       "      <td>localbtcUSD</td>\n",
       "    </tr>\n",
       "    <tr>\n",
       "      <th>1497000446</th>\n",
       "      <td>5638.000</td>\n",
       "      <td>0.002661</td>\n",
       "      <td>localbtcUSD</td>\n",
       "    </tr>\n",
       "    <tr>\n",
       "      <th>1497000457</th>\n",
       "      <td>4076.000</td>\n",
       "      <td>0.006133</td>\n",
       "      <td>localbtcUSD</td>\n",
       "    </tr>\n",
       "    <tr>\n",
       "      <th>1497000517</th>\n",
       "      <td>4063.030</td>\n",
       "      <td>0.012306</td>\n",
       "      <td>localbtcUSD</td>\n",
       "    </tr>\n",
       "    <tr>\n",
       "      <th>1497000522</th>\n",
       "      <td>4070.000</td>\n",
       "      <td>0.012285</td>\n",
       "      <td>localbtcUSD</td>\n",
       "    </tr>\n",
       "    <tr>\n",
       "      <th>1497000557</th>\n",
       "      <td>4063.030</td>\n",
       "      <td>0.024612</td>\n",
       "      <td>localbtcUSD</td>\n",
       "    </tr>\n",
       "    <tr>\n",
       "      <th>1497000567</th>\n",
       "      <td>4070.000</td>\n",
       "      <td>0.012285</td>\n",
       "      <td>localbtcUSD</td>\n",
       "    </tr>\n",
       "    <tr>\n",
       "      <th>1497000708</th>\n",
       "      <td>4076.000</td>\n",
       "      <td>0.012267</td>\n",
       "      <td>localbtcUSD</td>\n",
       "    </tr>\n",
       "    <tr>\n",
       "      <th>1497000756</th>\n",
       "      <td>4063.030</td>\n",
       "      <td>0.006153</td>\n",
       "      <td>localbtcUSD</td>\n",
       "    </tr>\n",
       "    <tr>\n",
       "      <th>1497000768</th>\n",
       "      <td>3623.700</td>\n",
       "      <td>0.006899</td>\n",
       "      <td>localbtcUSD</td>\n",
       "    </tr>\n",
       "    <tr>\n",
       "      <th>1497000770</th>\n",
       "      <td>2796.710</td>\n",
       "      <td>0.188436</td>\n",
       "      <td>localbtcUSD</td>\n",
       "    </tr>\n",
       "    <tr>\n",
       "      <th>1497000772</th>\n",
       "      <td>4070.000</td>\n",
       "      <td>0.061425</td>\n",
       "      <td>localbtcUSD</td>\n",
       "    </tr>\n",
       "    <tr>\n",
       "      <th>1497000791</th>\n",
       "      <td>2957.050</td>\n",
       "      <td>0.003044</td>\n",
       "      <td>localbtcUSD</td>\n",
       "    </tr>\n",
       "    <tr>\n",
       "      <th>1497000801</th>\n",
       "      <td>2764.680</td>\n",
       "      <td>0.081612</td>\n",
       "      <td>localbtcUSD</td>\n",
       "    </tr>\n",
       "    <tr>\n",
       "      <th>1497000802</th>\n",
       "      <td>4063.030</td>\n",
       "      <td>0.012306</td>\n",
       "      <td>localbtcUSD</td>\n",
       "    </tr>\n",
       "    <tr>\n",
       "      <th>1497000833</th>\n",
       "      <td>4076.000</td>\n",
       "      <td>0.009814</td>\n",
       "      <td>localbtcUSD</td>\n",
       "    </tr>\n",
       "    <tr>\n",
       "      <th>1497000839</th>\n",
       "      <td>4088.000</td>\n",
       "      <td>0.018346</td>\n",
       "      <td>localbtcUSD</td>\n",
       "    </tr>\n",
       "    <tr>\n",
       "      <th>1497000870</th>\n",
       "      <td>4070.000</td>\n",
       "      <td>0.012285</td>\n",
       "      <td>localbtcUSD</td>\n",
       "    </tr>\n",
       "    <tr>\n",
       "      <th>1497000876</th>\n",
       "      <td>4063.030</td>\n",
       "      <td>0.024612</td>\n",
       "      <td>localbtcUSD</td>\n",
       "    </tr>\n",
       "    <tr>\n",
       "      <th>1497000994</th>\n",
       "      <td>3415.000</td>\n",
       "      <td>0.029283</td>\n",
       "      <td>localbtcUSD</td>\n",
       "    </tr>\n",
       "    <tr>\n",
       "      <th>1497001071</th>\n",
       "      <td>4063.030</td>\n",
       "      <td>0.006153</td>\n",
       "      <td>localbtcUSD</td>\n",
       "    </tr>\n",
       "    <tr>\n",
       "      <th>1497001076</th>\n",
       "      <td>4070.000</td>\n",
       "      <td>0.012285</td>\n",
       "      <td>localbtcUSD</td>\n",
       "    </tr>\n",
       "    <tr>\n",
       "      <th>1497001187</th>\n",
       "      <td>4063.030</td>\n",
       "      <td>0.024612</td>\n",
       "      <td>localbtcUSD</td>\n",
       "    </tr>\n",
       "    <tr>\n",
       "      <th>1497001338</th>\n",
       "      <td>4070.000</td>\n",
       "      <td>0.024570</td>\n",
       "      <td>localbtcUSD</td>\n",
       "    </tr>\n",
       "    <tr>\n",
       "      <th>1497001354</th>\n",
       "      <td>3213.660</td>\n",
       "      <td>0.062234</td>\n",
       "      <td>localbtcUSD</td>\n",
       "    </tr>\n",
       "    <tr>\n",
       "      <th>1497001456</th>\n",
       "      <td>3039.680</td>\n",
       "      <td>0.271081</td>\n",
       "      <td>localbtcUSD</td>\n",
       "    </tr>\n",
       "  </tbody>\n",
       "</table>\n",
       "<p>4018823 rows × 3 columns</p>\n",
       "</div>"
      ],
      "text/plain": [
       "               price     amount     exchange\n",
       "1363046255    72.000   4.999900  localbtcUSD\n",
       "1363116992    67.790   1.999900  localbtcUSD\n",
       "1363177672    52.210  14.768400  localbtcUSD\n",
       "1363194361    56.290   0.640100  localbtcUSD\n",
       "1363197680    40.000   1.750000  localbtcUSD\n",
       "1363219234    70.300   1.422400  localbtcUSD\n",
       "1363256410    47.470  11.102170  bitstampUSD\n",
       "1363256410    51.320   0.876900  localbtcUSD\n",
       "1363292918    43.799   0.100200      btceUSD\n",
       "1363292918    50.400   2.976400  localbtcUSD\n",
       "1363303499    50.350   1.588900  localbtcUSD\n",
       "1363306939    49.520   7.371100  localbtcUSD\n",
       "1363310095    49.350   6.484300  localbtcUSD\n",
       "1363311085    49.350   4.052700  localbtcUSD\n",
       "1363312695    70.960   0.352300  localbtcUSD\n",
       "1363313332    49.580   2.000200  localbtcUSD\n",
       "1363318506    49.660   2.013500  localbtcUSD\n",
       "1363327730    47.750  10.472000  localbtcUSD\n",
       "1363330278    49.540   5.248300  localbtcUSD\n",
       "1363345089    70.520   2.127200  localbtcUSD\n",
       "1363362161    53.290   1.914000  localbtcUSD\n",
       "1363365558    49.720   1.206800  localbtcUSD\n",
       "1363371577    48.350   0.827300  localbtcUSD\n",
       "1363376245    48.200   6.017200  localbtcUSD\n",
       "1363376304    48.240   2.073100  localbtcUSD\n",
       "1363381307    48.410  10.328400  localbtcUSD\n",
       "1363394943    49.350   1.000000  localbtcUSD\n",
       "1363399174    48.320   2.069700  localbtcUSD\n",
       "1363407761    48.090   3.000200  localbtcUSD\n",
       "1363410188    48.870   0.613900  localbtcUSD\n",
       "...              ...        ...          ...\n",
       "1497000246  2824.640   0.026552  localbtcUSD\n",
       "1497000251  5638.000   0.002661  localbtcUSD\n",
       "1497000301  4070.000   0.024570  localbtcUSD\n",
       "1497000381  4063.030   0.006153  localbtcUSD\n",
       "1497000390  4076.000   0.003680  localbtcUSD\n",
       "1497000446  5638.000   0.002661  localbtcUSD\n",
       "1497000457  4076.000   0.006133  localbtcUSD\n",
       "1497000517  4063.030   0.012306  localbtcUSD\n",
       "1497000522  4070.000   0.012285  localbtcUSD\n",
       "1497000557  4063.030   0.024612  localbtcUSD\n",
       "1497000567  4070.000   0.012285  localbtcUSD\n",
       "1497000708  4076.000   0.012267  localbtcUSD\n",
       "1497000756  4063.030   0.006153  localbtcUSD\n",
       "1497000768  3623.700   0.006899  localbtcUSD\n",
       "1497000770  2796.710   0.188436  localbtcUSD\n",
       "1497000772  4070.000   0.061425  localbtcUSD\n",
       "1497000791  2957.050   0.003044  localbtcUSD\n",
       "1497000801  2764.680   0.081612  localbtcUSD\n",
       "1497000802  4063.030   0.012306  localbtcUSD\n",
       "1497000833  4076.000   0.009814  localbtcUSD\n",
       "1497000839  4088.000   0.018346  localbtcUSD\n",
       "1497000870  4070.000   0.012285  localbtcUSD\n",
       "1497000876  4063.030   0.024612  localbtcUSD\n",
       "1497000994  3415.000   0.029283  localbtcUSD\n",
       "1497001071  4063.030   0.006153  localbtcUSD\n",
       "1497001076  4070.000   0.012285  localbtcUSD\n",
       "1497001187  4063.030   0.024612  localbtcUSD\n",
       "1497001338  4070.000   0.024570  localbtcUSD\n",
       "1497001354  3213.660   0.062234  localbtcUSD\n",
       "1497001456  3039.680   0.271081  localbtcUSD\n",
       "\n",
       "[4018823 rows x 3 columns]"
      ]
     },
     "execution_count": 116,
     "metadata": {},
     "output_type": "execute_result"
    }
   ],
   "source": [
    "df.loc[localbtc_idx_lst]"
   ]
  },
  {
   "cell_type": "code",
   "execution_count": 112,
   "metadata": {},
   "outputs": [
    {
     "data": {
      "text/plain": [
       "[1272213424    False\n",
       " 1272321545    False\n",
       " 1272636016    False\n",
       " 1272722427    False\n",
       " 1272808822    False\n",
       " 1272895220    False\n",
       " 1272981614    False\n",
       " 1273004477    False\n",
       " 1273075178    False\n",
       " 1273083937    False\n",
       " 1273084068    False\n",
       " 1273154411    False\n",
       " 1273175636    False\n",
       " 1273240826    False\n",
       " 1273244786    False\n",
       " 1273338224    False\n",
       " 1273524505    False\n",
       " 1273524638    False\n",
       " 1273525151    False\n",
       " 1273599326    False\n",
       " 1273599457    False\n",
       " 1273601091    False\n",
       " 1273692614    False\n",
       " 1273694768    False\n",
       " 1273694899    False\n",
       " 1273701902    False\n",
       " 1273703441    False\n",
       " 1273845603    False\n",
       " 1273845732    False\n",
       " 1274209760    False\n",
       "               ...  \n",
       " 1497000756     True\n",
       " 1497000768     True\n",
       " 1497000770     True\n",
       " 1497000772     True\n",
       " 1497000791     True\n",
       " 1497000801     True\n",
       " 1497000802     True\n",
       " 1497000833     True\n",
       " 1497000839     True\n",
       " 1497000870     True\n",
       " 1497000876     True\n",
       " 1497000994     True\n",
       " 1497001071     True\n",
       " 1497001076     True\n",
       " 1497001158    False\n",
       " 1497001187     True\n",
       " 1497001338     True\n",
       " 1497001354     True\n",
       " 1497001456     True\n",
       " 1497001723    False\n",
       " 1497001723    False\n",
       " 1497001917    False\n",
       " 1497002228    False\n",
       " 1497002430    False\n",
       " 1497002430    False\n",
       " 1497002430    False\n",
       " 1497002431    False\n",
       " 1497002431    False\n",
       " 1497002431    False\n",
       " 1497002431    False\n",
       " Name: exchange, Length: 90062456, dtype: bool]"
      ]
     },
     "execution_count": 112,
     "metadata": {},
     "output_type": "execute_result"
    }
   ],
   "source": [
    "t"
   ]
  },
  {
   "cell_type": "code",
   "execution_count": 128,
   "metadata": {},
   "outputs": [
    {
     "data": {
      "image/png": "[encoded data removed]",
      "text/plain": [
       "<matplotlib.figure.Figure at 0x21a670588>"
      ]
     },
     "metadata": {},
     "output_type": "display_data"
    }
   ],
   "source": [
    "# price_gt_4k['exchange'].hist()\n",
    "plt.plot('price', data=price_gt_4k)\n",
    "plt.show()"
   ]
  },
  {
   "cell_type": "code",
   "execution_count": 50,
   "metadata": {},
   "outputs": [
    {
     "data": {
      "text/html": [
       "<div>\n",
       "<style>\n",
       "    .dataframe thead tr:only-child th {\n",
       "        text-align: right;\n",
       "    }\n",
       "\n",
       "    .dataframe thead th {\n",
       "        text-align: left;\n",
       "    }\n",
       "\n",
       "    .dataframe tbody tr th {\n",
       "        vertical-align: top;\n",
       "    }\n",
       "</style>\n",
       "<table border=\"1\" class=\"dataframe\">\n",
       "  <thead>\n",
       "    <tr style=\"text-align: right;\">\n",
       "      <th></th>\n",
       "      <th>price</th>\n",
       "      <th>amount</th>\n",
       "      <th>exchange</th>\n",
       "    </tr>\n",
       "  </thead>\n",
       "  <tbody>\n",
       "    <tr>\n",
       "      <th>1272213424</th>\n",
       "      <td>0.003</td>\n",
       "      <td>1000.0</td>\n",
       "      <td>bcmPPUSD</td>\n",
       "    </tr>\n",
       "    <tr>\n",
       "      <th>1272321545</th>\n",
       "      <td>0.003</td>\n",
       "      <td>1300.0</td>\n",
       "      <td>bcmPPUSD</td>\n",
       "    </tr>\n",
       "    <tr>\n",
       "      <th>1272636016</th>\n",
       "      <td>0.003</td>\n",
       "      <td>173.0</td>\n",
       "      <td>bcmPPUSD</td>\n",
       "    </tr>\n",
       "    <tr>\n",
       "      <th>1272722427</th>\n",
       "      <td>0.003</td>\n",
       "      <td>174.0</td>\n",
       "      <td>bcmPPUSD</td>\n",
       "    </tr>\n",
       "    <tr>\n",
       "      <th>1272808822</th>\n",
       "      <td>0.003</td>\n",
       "      <td>174.0</td>\n",
       "      <td>bcmPPUSD</td>\n",
       "    </tr>\n",
       "  </tbody>\n",
       "</table>\n",
       "</div>"
      ],
      "text/plain": [
       "            price  amount  exchange\n",
       "1272213424  0.003  1000.0  bcmPPUSD\n",
       "1272321545  0.003  1300.0  bcmPPUSD\n",
       "1272636016  0.003   173.0  bcmPPUSD\n",
       "1272722427  0.003   174.0  bcmPPUSD\n",
       "1272808822  0.003   174.0  bcmPPUSD"
      ]
     },
     "execution_count": 50,
     "metadata": {},
     "output_type": "execute_result"
    }
   ],
   "source": [
    "df.head()"
   ]
  },
  {
   "cell_type": "code",
   "execution_count": 136,
   "metadata": {},
   "outputs": [],
   "source": [
    "df.to_hdf(\"all_column_remove_localbtc.hdf\", 'all')"
   ]
  },
  {
   "cell_type": "code",
   "execution_count": 46,
   "metadata": {},
   "outputs": [
    {
     "data": {
      "text/html": [
       "<div>\n",
       "<style>\n",
       "    .dataframe thead tr:only-child th {\n",
       "        text-align: right;\n",
       "    }\n",
       "\n",
       "    .dataframe thead th {\n",
       "        text-align: left;\n",
       "    }\n",
       "\n",
       "    .dataframe tbody tr th {\n",
       "        vertical-align: top;\n",
       "    }\n",
       "</style>\n",
       "<table border=\"1\" class=\"dataframe\">\n",
       "  <thead>\n",
       "    <tr style=\"text-align: right;\">\n",
       "      <th></th>\n",
       "      <th>price</th>\n",
       "      <th>amount</th>\n",
       "      <th>exchange</th>\n",
       "    </tr>\n",
       "  </thead>\n",
       "  <tbody>\n",
       "    <tr>\n",
       "      <th>1338531940</th>\n",
       "      <td>1.0000</td>\n",
       "      <td>5.160</td>\n",
       "      <td>weexUSD</td>\n",
       "    </tr>\n",
       "    <tr>\n",
       "      <th>1338532387</th>\n",
       "      <td>2.0000</td>\n",
       "      <td>5.160</td>\n",
       "      <td>weexUSD</td>\n",
       "    </tr>\n",
       "    <tr>\n",
       "      <th>1338825840</th>\n",
       "      <td>1.0000</td>\n",
       "      <td>5.295</td>\n",
       "      <td>weexUSD</td>\n",
       "    </tr>\n",
       "    <tr>\n",
       "      <th>1338825888</th>\n",
       "      <td>2.0000</td>\n",
       "      <td>5.300</td>\n",
       "      <td>weexUSD</td>\n",
       "    </tr>\n",
       "    <tr>\n",
       "      <th>1338989783</th>\n",
       "      <td>5.8962</td>\n",
       "      <td>5.500</td>\n",
       "      <td>weexUSD</td>\n",
       "    </tr>\n",
       "  </tbody>\n",
       "</table>\n",
       "</div>"
      ],
      "text/plain": [
       "             price  amount exchange\n",
       "1338531940  1.0000   5.160  weexUSD\n",
       "1338532387  2.0000   5.160  weexUSD\n",
       "1338825840  1.0000   5.295  weexUSD\n",
       "1338825888  2.0000   5.300  weexUSD\n",
       "1338989783  5.8962   5.500  weexUSD"
      ]
     },
     "execution_count": 46,
     "metadata": {},
     "output_type": "execute_result"
    }
   ],
   "source": [
    "data.head()"
   ]
  },
  {
   "cell_type": "code",
   "execution_count": 62,
   "metadata": {},
   "outputs": [
    {
     "data": {
      "text/plain": [
       "(90062458, 3)"
      ]
     },
     "execution_count": 62,
     "metadata": {},
     "output_type": "execute_result"
    }
   ],
   "source": [
    "data_sort.shape"
   ]
  },
  {
   "cell_type": "code",
   "execution_count": 63,
   "metadata": {
    "collapsed": true
   },
   "outputs": [],
   "source": [
    "## save\n",
    "data_sort.to_hdf('all.hdf', 'all')"
   ]
  },
  {
   "cell_type": "code",
   "execution_count": 51,
   "metadata": {},
   "outputs": [
    {
     "ename": "OSError",
     "evalue": "[Errno 22] Invalid argument",
     "output_type": "error",
     "traceback": [
      "\u001b[0;31m---------------------------------------------------------------------------\u001b[0m",
      "\u001b[0;31mOSError\u001b[0m                                   Traceback (most recent call last)",
      "\u001b[0;32m<ipython-input-51-363f3c9ef6bb>\u001b[0m in \u001b[0;36m<module>\u001b[0;34m()\u001b[0m\n\u001b[0;32m----> 1\u001b[0;31m \u001b[0mdata\u001b[0m\u001b[0;34m.\u001b[0m\u001b[0mto_pickle\u001b[0m\u001b[0;34m(\u001b[0m\u001b[0;34m\"all.pkl\"\u001b[0m\u001b[0;34m)\u001b[0m\u001b[0;34m\u001b[0m\u001b[0m\n\u001b[0m",
      "\u001b[0;32m/Users/jimmytran/anaconda3/lib/python3.6/site-packages/pandas/core/generic.py\u001b[0m in \u001b[0;36mto_pickle\u001b[0;34m(self, path, compression)\u001b[0m\n\u001b[1;32m   1359\u001b[0m         \"\"\"\n\u001b[1;32m   1360\u001b[0m         \u001b[0;32mfrom\u001b[0m \u001b[0mpandas\u001b[0m\u001b[0;34m.\u001b[0m\u001b[0mio\u001b[0m\u001b[0;34m.\u001b[0m\u001b[0mpickle\u001b[0m \u001b[0;32mimport\u001b[0m \u001b[0mto_pickle\u001b[0m\u001b[0;34m\u001b[0m\u001b[0m\n\u001b[0;32m-> 1361\u001b[0;31m         \u001b[0;32mreturn\u001b[0m \u001b[0mto_pickle\u001b[0m\u001b[0;34m(\u001b[0m\u001b[0mself\u001b[0m\u001b[0;34m,\u001b[0m \u001b[0mpath\u001b[0m\u001b[0;34m,\u001b[0m \u001b[0mcompression\u001b[0m\u001b[0;34m=\u001b[0m\u001b[0mcompression\u001b[0m\u001b[0;34m)\u001b[0m\u001b[0;34m\u001b[0m\u001b[0m\n\u001b[0m\u001b[1;32m   1362\u001b[0m \u001b[0;34m\u001b[0m\u001b[0m\n\u001b[1;32m   1363\u001b[0m     \u001b[0;32mdef\u001b[0m \u001b[0mto_clipboard\u001b[0m\u001b[0;34m(\u001b[0m\u001b[0mself\u001b[0m\u001b[0;34m,\u001b[0m \u001b[0mexcel\u001b[0m\u001b[0;34m=\u001b[0m\u001b[0;32mNone\u001b[0m\u001b[0;34m,\u001b[0m \u001b[0msep\u001b[0m\u001b[0;34m=\u001b[0m\u001b[0;32mNone\u001b[0m\u001b[0;34m,\u001b[0m \u001b[0;34m**\u001b[0m\u001b[0mkwargs\u001b[0m\u001b[0;34m)\u001b[0m\u001b[0;34m:\u001b[0m\u001b[0;34m\u001b[0m\u001b[0m\n",
      "\u001b[0;32m/Users/jimmytran/anaconda3/lib/python3.6/site-packages/pandas/io/pickle.py\u001b[0m in \u001b[0;36mto_pickle\u001b[0;34m(obj, path, compression)\u001b[0m\n\u001b[1;32m     27\u001b[0m                         is_text=False)\n\u001b[1;32m     28\u001b[0m     \u001b[0;32mtry\u001b[0m\u001b[0;34m:\u001b[0m\u001b[0;34m\u001b[0m\u001b[0m\n\u001b[0;32m---> 29\u001b[0;31m         \u001b[0mpkl\u001b[0m\u001b[0;34m.\u001b[0m\u001b[0mdump\u001b[0m\u001b[0;34m(\u001b[0m\u001b[0mobj\u001b[0m\u001b[0;34m,\u001b[0m \u001b[0mf\u001b[0m\u001b[0;34m,\u001b[0m \u001b[0mprotocol\u001b[0m\u001b[0;34m=\u001b[0m\u001b[0mpkl\u001b[0m\u001b[0;34m.\u001b[0m\u001b[0mHIGHEST_PROTOCOL\u001b[0m\u001b[0;34m)\u001b[0m\u001b[0;34m\u001b[0m\u001b[0m\n\u001b[0m\u001b[1;32m     30\u001b[0m     \u001b[0;32mfinally\u001b[0m\u001b[0;34m:\u001b[0m\u001b[0;34m\u001b[0m\u001b[0m\n\u001b[1;32m     31\u001b[0m         \u001b[0;32mfor\u001b[0m \u001b[0m_f\u001b[0m \u001b[0;32min\u001b[0m \u001b[0mfh\u001b[0m\u001b[0;34m:\u001b[0m\u001b[0;34m\u001b[0m\u001b[0m\n",
      "\u001b[0;31mOSError\u001b[0m: [Errno 22] Invalid argument"
     ]
    }
   ],
   "source": [
    "data.to_pickle(\"all.pkl\")"
   ]
  },
  {
   "cell_type": "code",
   "execution_count": 45,
   "metadata": {},
   "outputs": [
    {
     "data": {
      "text/plain": [
       "(1405557, 3)"
      ]
     },
     "execution_count": 45,
     "metadata": {},
     "output_type": "execute_result"
    }
   ],
   "source": [
    "data.shape"
   ]
  },
  {
   "cell_type": "code",
   "execution_count": 41,
   "metadata": {},
   "outputs": [
    {
     "name": "stdout",
     "output_type": "stream",
     "text": [
      "       1     2\n",
      "0  100.0  5.00\n",
      "1   99.0  5.50\n",
      "2   99.0  0.05\n",
      "3  100.0  0.95\n",
      "4  100.0  4.00\n"
     ]
    }
   ],
   "source": [
    "newDF = pd.DataFrame() #creates a new dataframe that's empty\n",
    "n = newDF.append(data, ignore_index = True) # ignoring index is optional\n",
    "# try printing some data from newDF\n",
    "print(n.head())#again optional "
   ]
  },
  {
   "cell_type": "code",
   "execution_count": 3,
   "metadata": {
    "collapsed": true
   },
   "outputs": [],
   "source": [
    "df = pd.read_hdf('all.hdf')"
   ]
  },
  {
   "cell_type": "code",
   "execution_count": 7,
   "metadata": {},
   "outputs": [
    {
     "data": {
      "text/html": [
       "<div>\n",
       "<style>\n",
       "    .dataframe thead tr:only-child th {\n",
       "        text-align: right;\n",
       "    }\n",
       "\n",
       "    .dataframe thead th {\n",
       "        text-align: left;\n",
       "    }\n",
       "\n",
       "    .dataframe tbody tr th {\n",
       "        vertical-align: top;\n",
       "    }\n",
       "</style>\n",
       "<table border=\"1\" class=\"dataframe\">\n",
       "  <thead>\n",
       "    <tr style=\"text-align: right;\">\n",
       "      <th></th>\n",
       "      <th>0</th>\n",
       "      <th>1</th>\n",
       "      <th>2</th>\n",
       "    </tr>\n",
       "  </thead>\n",
       "  <tbody>\n",
       "    <tr>\n",
       "      <th>89666891</th>\n",
       "      <td>946684800</td>\n",
       "      <td>55.000</td>\n",
       "      <td>0.001154</td>\n",
       "    </tr>\n",
       "    <tr>\n",
       "      <th>1412591</th>\n",
       "      <td>1272213424</td>\n",
       "      <td>0.003</td>\n",
       "      <td>1000.000000</td>\n",
       "    </tr>\n",
       "    <tr>\n",
       "      <th>1412592</th>\n",
       "      <td>1272321545</td>\n",
       "      <td>0.003</td>\n",
       "      <td>1300.000000</td>\n",
       "    </tr>\n",
       "    <tr>\n",
       "      <th>1412593</th>\n",
       "      <td>1272636016</td>\n",
       "      <td>0.003</td>\n",
       "      <td>173.000000</td>\n",
       "    </tr>\n",
       "    <tr>\n",
       "      <th>1412594</th>\n",
       "      <td>1272722427</td>\n",
       "      <td>0.003</td>\n",
       "      <td>174.000000</td>\n",
       "    </tr>\n",
       "  </tbody>\n",
       "</table>\n",
       "</div>"
      ],
      "text/plain": [
       "                   0       1            2\n",
       "89666891   946684800  55.000     0.001154\n",
       "1412591   1272213424   0.003  1000.000000\n",
       "1412592   1272321545   0.003  1300.000000\n",
       "1412593   1272636016   0.003   173.000000\n",
       "1412594   1272722427   0.003   174.000000"
      ]
     },
     "execution_count": 7,
     "metadata": {},
     "output_type": "execute_result"
    }
   ],
   "source": [
    "df.head()"
   ]
  },
  {
   "cell_type": "code",
   "execution_count": null,
   "metadata": {
    "collapsed": true
   },
   "outputs": [],
   "source": [
    "df.set_index()"
   ]
  }
 ],
 "metadata": {
  "kernelspec": {
   "display_name": "Python 3",
   "language": "python",
   "name": "python3"
  },
  "language_info": {
   "codemirror_mode": {
    "name": "ipython",
    "version": 3
   },
   "file_extension": ".py",
   "mimetype": "text/x-python",
   "name": "python",
   "nbconvert_exporter": "python",
   "pygments_lexer": "ipython3",
   "version": "3.6.1"
  }
 },
 "nbformat": 4,
 "nbformat_minor": 2
}
