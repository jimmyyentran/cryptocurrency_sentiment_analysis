{
 "cells": [
  {
   "cell_type": "code",
   "execution_count": 34,
   "metadata": {
    "collapsed": true
   },
   "outputs": [],
   "source": [
    "import pandas as pd\n",
    "import numpy as np\n",
    "import seaborn as sb\n",
    "import matplotlib.pyplot as plt\n",
    "from IPython.display import display"
   ]
  },
  {
   "cell_type": "code",
   "execution_count": 108,
   "metadata": {},
   "outputs": [
    {
     "name": "stdout",
     "output_type": "stream",
     "text": [
      "(25835, 2)\n"
     ]
    },
    {
     "data": {
      "text/html": [
       "<div>\n",
       "<style>\n",
       "    .dataframe thead tr:only-child th {\n",
       "        text-align: right;\n",
       "    }\n",
       "\n",
       "    .dataframe thead th {\n",
       "        text-align: left;\n",
       "    }\n",
       "\n",
       "    .dataframe tbody tr th {\n",
       "        vertical-align: top;\n",
       "    }\n",
       "</style>\n",
       "<table border=\"1\" class=\"dataframe\">\n",
       "  <thead>\n",
       "    <tr style=\"text-align: right;\">\n",
       "      <th></th>\n",
       "      <th>price</th>\n",
       "      <th>amount</th>\n",
       "    </tr>\n",
       "  </thead>\n",
       "  <tbody>\n",
       "    <tr>\n",
       "      <th>2013-12-21 17:33:28</th>\n",
       "      <td>575.01</td>\n",
       "      <td>0.100000</td>\n",
       "    </tr>\n",
       "    <tr>\n",
       "      <th>2013-12-21 20:01:26</th>\n",
       "      <td>639.00</td>\n",
       "      <td>0.077856</td>\n",
       "    </tr>\n",
       "    <tr>\n",
       "      <th>2013-12-21 20:03:04</th>\n",
       "      <td>639.00</td>\n",
       "      <td>0.022144</td>\n",
       "    </tr>\n",
       "    <tr>\n",
       "      <th>2013-12-21 22:23:40</th>\n",
       "      <td>639.00</td>\n",
       "      <td>0.055712</td>\n",
       "    </tr>\n",
       "    <tr>\n",
       "      <th>2013-12-22 17:22:48</th>\n",
       "      <td>639.00</td>\n",
       "      <td>0.031142</td>\n",
       "    </tr>\n",
       "  </tbody>\n",
       "</table>\n",
       "</div>"
      ],
      "text/plain": [
       "                      price    amount\n",
       "2013-12-21 17:33:28  575.01  0.100000\n",
       "2013-12-21 20:01:26  639.00  0.077856\n",
       "2013-12-21 20:03:04  639.00  0.022144\n",
       "2013-12-21 22:23:40  639.00  0.055712\n",
       "2013-12-22 17:22:48  639.00  0.031142"
      ]
     },
     "metadata": {},
     "output_type": "display_data"
    },
    {
     "data": {
      "text/html": [
       "<div>\n",
       "<style>\n",
       "    .dataframe thead tr:only-child th {\n",
       "        text-align: right;\n",
       "    }\n",
       "\n",
       "    .dataframe thead th {\n",
       "        text-align: left;\n",
       "    }\n",
       "\n",
       "    .dataframe tbody tr th {\n",
       "        vertical-align: top;\n",
       "    }\n",
       "</style>\n",
       "<table border=\"1\" class=\"dataframe\">\n",
       "  <thead>\n",
       "    <tr style=\"text-align: right;\">\n",
       "      <th></th>\n",
       "      <th>price</th>\n",
       "      <th>amount</th>\n",
       "    </tr>\n",
       "  </thead>\n",
       "  <tbody>\n",
       "    <tr>\n",
       "      <th>2016-01-19 19:33:56</th>\n",
       "      <td>391.01</td>\n",
       "      <td>0.515000</td>\n",
       "    </tr>\n",
       "    <tr>\n",
       "      <th>2016-01-21 13:11:20</th>\n",
       "      <td>426.24</td>\n",
       "      <td>0.690000</td>\n",
       "    </tr>\n",
       "    <tr>\n",
       "      <th>2016-01-29 03:11:21</th>\n",
       "      <td>380.00</td>\n",
       "      <td>0.207515</td>\n",
       "    </tr>\n",
       "    <tr>\n",
       "      <th>2016-01-29 12:39:03</th>\n",
       "      <td>394.49</td>\n",
       "      <td>2.000000</td>\n",
       "    </tr>\n",
       "    <tr>\n",
       "      <th>2016-01-31 06:36:14</th>\n",
       "      <td>391.98</td>\n",
       "      <td>0.001853</td>\n",
       "    </tr>\n",
       "  </tbody>\n",
       "</table>\n",
       "</div>"
      ],
      "text/plain": [
       "                      price    amount\n",
       "2016-01-19 19:33:56  391.01  0.515000\n",
       "2016-01-21 13:11:20  426.24  0.690000\n",
       "2016-01-29 03:11:21  380.00  0.207515\n",
       "2016-01-29 12:39:03  394.49  2.000000\n",
       "2016-01-31 06:36:14  391.98  0.001853"
      ]
     },
     "execution_count": 108,
     "metadata": {},
     "output_type": "execute_result"
    }
   ],
   "source": [
    "data = pd.read_csv('cotrUSD.csv', index_col=0, names=['price', 'amount'])\n",
    "data.index = pd.to_datetime(data.index, unit='s')\n",
    "\n",
    "# Dropping bad data\n",
    "idxmax = data['price'].idxmax()\n",
    "data = data.drop(idxmax)\n",
    "\n",
    "print(data.shape)\n",
    "display(data.head())\n",
    "data.tail()"
   ]
  },
  {
   "cell_type": "code",
   "execution_count": 109,
   "metadata": {},
   "outputs": [
    {
     "data": {
      "image/png": "[encoded data removed]",
      "text/plain": [
       "<matplotlib.figure.Figure at 0x120ef5f60>"
      ]
     },
     "metadata": {},
     "output_type": "display_data"
    },
    {
     "data": {
      "image/png": "[encoded data removed]",
      "text/plain": [
       "<matplotlib.figure.Figure at 0x1209312b0>"
      ]
     },
     "metadata": {},
     "output_type": "display_data"
    }
   ],
   "source": [
    "plt.plot('amount', data=data)\n",
    "plt.show()\n",
    "plt.plot('price', data=data)\n",
    "plt.show()"
   ]
  },
  {
   "cell_type": "code",
   "execution_count": 105,
   "metadata": {},
   "outputs": [
    {
     "name": "stdout",
     "output_type": "stream",
     "text": [
      "(25835, 2)\n"
     ]
    }
   ],
   "source": [
    "# idxmax = data.loc[data['price'].idxmax()]\n",
    "idxmax = data['price'].idxmax()\n",
    "# data.loc[pd.to_datetime(1453232036, unit='s')]\n",
    "data.loc[idxmax]\n",
    "# data = data.drop(data.iloc[idxmax])\n",
    "# idxmax = data['price'].idxmax()\n",
    "# data.loc[idxmax]\n",
    "data = data.drop(idxmax)\n",
    "print(data.shape)\n",
    "\n"
   ]
  },
  {
   "cell_type": "code",
   "execution_count": 77,
   "metadata": {},
   "outputs": [
    {
     "data": {
      "text/plain": [
       "Timestamp('1970-01-01 00:00:01.453232036')"
      ]
     },
     "execution_count": 77,
     "metadata": {},
     "output_type": "execute_result"
    }
   ],
   "source": [
    "pd.to_datetime(1453232036)"
   ]
  }
 ],
 "metadata": {
  "kernelspec": {
   "display_name": "Python 3",
   "language": "python",
   "name": "python3"
  },
  "language_info": {
   "codemirror_mode": {
    "name": "ipython",
    "version": 3
   },
   "file_extension": ".py",
   "mimetype": "text/x-python",
   "name": "python",
   "nbconvert_exporter": "python",
   "pygments_lexer": "ipython3",
   "version": "3.6.1"
  }
 },
 "nbformat": 4,
 "nbformat_minor": 2
}
